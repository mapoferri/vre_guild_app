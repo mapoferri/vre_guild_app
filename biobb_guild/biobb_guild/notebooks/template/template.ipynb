{
 "cells": [
  {
   "cell_type": "markdown",
   "metadata": {},
   "source": [
    "# Common execution"
   ]
  },
  {
   "cell_type": "code",
   "execution_count": null,
   "metadata": {},
   "outputs": [],
   "source": [
    "# Create prop dict and inputs/outputs\n",
    "prop = {\n",
    "    \"boolean_property\": False,\n",
    "    \"remove_tmp\": True\n",
    "}\n",
    "input_file_path1 = '../../test/data/template/topology.top'\n",
    "input_file_path2 = '../../test/data/template/trajectory.dcd'\n",
    "output_file_path = 'output.zip'"
   ]
  },
  {
   "cell_type": "code",
   "execution_count": null,
   "metadata": {},
   "outputs": [],
   "source": [
    "# Import module\n",
    "from template.template import template"
   ]
  },
  {
   "cell_type": "code",
   "execution_count": null,
   "metadata": {},
   "outputs": [],
   "source": [
    "# Create and launch bb\n",
    "template(input_file_path1=input_file_path1, \n",
    "         input_file_path2=input_file_path2, \n",
    "         output_file_path=output_file_path, \n",
    "         properties=prop)"
   ]
  },
  {
   "cell_type": "code",
   "execution_count": null,
   "metadata": {},
   "outputs": [],
   "source": [
    "# Show log\n",
    "!cat log.out"
   ]
  },
  {
   "cell_type": "code",
   "execution_count": null,
   "metadata": {},
   "outputs": [],
   "source": [
    "# Unzip output file\n",
    "!unzip output.zip"
   ]
  },
  {
   "cell_type": "code",
   "execution_count": null,
   "metadata": {},
   "outputs": [],
   "source": [
    "# List folder content\n",
    "!ls -la"
   ]
  },
  {
   "cell_type": "markdown",
   "metadata": {},
   "source": [
    "# Container execution\n",
    "\n",
    "## Docker"
   ]
  },
  {
   "cell_type": "code",
   "execution_count": null,
   "metadata": {},
   "outputs": [],
   "source": [
    "# Create prop dict and inputs/outputs\n",
    "prop = {\n",
    "    \"boolean_property\": False,\n",
    "    \"remove_tmp\": True,\n",
    "    \"container_path\": \"docker\",\n",
    "    \"container_image\": \"mmbirb/zip:latest\",\n",
    "    \"container_volume_path\": \"/tmp\"\n",
    "}\n",
    "\n",
    "input_file_path1 = '../../test/data/template/topology.top'\n",
    "input_file_path2 = '../../test/data/template/trajectory.dcd'\n",
    "output_file_path = 'output.docker.zip'"
   ]
  },
  {
   "cell_type": "code",
   "execution_count": null,
   "metadata": {},
   "outputs": [],
   "source": [
    "# Import module\n",
    "from template.template_container import template_container"
   ]
  },
  {
   "cell_type": "code",
   "execution_count": null,
   "metadata": {},
   "outputs": [],
   "source": [
    "# Create and launch bb\n",
    "template_container(input_file_path1=input_file_path1, \n",
    "         input_file_path2=input_file_path2, \n",
    "         output_file_path=output_file_path, \n",
    "         properties=prop)"
   ]
  },
  {
   "cell_type": "code",
   "execution_count": null,
   "metadata": {},
   "outputs": [],
   "source": [
    "# Show log\n",
    "!cat log.out"
   ]
  },
  {
   "cell_type": "code",
   "execution_count": null,
   "metadata": {},
   "outputs": [],
   "source": [
    "# Unzip output file\n",
    "!unzip output.docker.zip"
   ]
  },
  {
   "cell_type": "code",
   "execution_count": null,
   "metadata": {},
   "outputs": [],
   "source": [
    "# List folder content\n",
    "!ls -la"
   ]
  },
  {
   "cell_type": "markdown",
   "metadata": {},
   "source": [
    "## Singularity"
   ]
  },
  {
   "cell_type": "code",
   "execution_count": null,
   "metadata": {},
   "outputs": [],
   "source": [
    "# Create prop dict and inputs/outputs\n",
    "prop = {\n",
    "    \"boolean_property\": False,\n",
    "    \"remove_tmp\": True,\n",
    "    \"executable_binary_property\": \"/opt/conda/bin/zip\",\n",
    "    \"container_path\": \"singularity\",\n",
    "    \"container_image\": \"shub://bioexcel/zip_container\",\n",
    "    \"container_volume_path\": \"/tmp\"\n",
    "}\n",
    "\n",
    "input_file_path1 = '../../test/data/template/topology.top'\n",
    "input_file_path2 = '../../test/data/template/trajectory.dcd'\n",
    "output_file_path = 'output.singularity.zip'"
   ]
  },
  {
   "cell_type": "code",
   "execution_count": null,
   "metadata": {},
   "outputs": [],
   "source": [
    "# Import module\n",
    "from template.template_container import template_container"
   ]
  },
  {
   "cell_type": "code",
   "execution_count": null,
   "metadata": {},
   "outputs": [],
   "source": [
    "# Create and launch bb\n",
    "template_container(input_file_path1=input_file_path1, \n",
    "         input_file_path2=input_file_path2, \n",
    "         output_file_path=output_file_path, \n",
    "         properties=prop)"
   ]
  },
  {
   "cell_type": "code",
   "execution_count": null,
   "metadata": {},
   "outputs": [],
   "source": [
    "# Show log\n",
    "!cat log.out"
   ]
  },
  {
   "cell_type": "code",
   "execution_count": null,
   "metadata": {},
   "outputs": [],
   "source": [
    "# Unzip output file\n",
    "!unzip output.singularity.zip"
   ]
  },
  {
   "cell_type": "code",
   "execution_count": null,
   "metadata": {},
   "outputs": [],
   "source": [
    "# List folder content\n",
    "!ls -la"
   ]
  }
 ],
 "metadata": {
  "kernelspec": {
   "display_name": "Python 3",
   "language": "python",
   "name": "python3"
  },
  "language_info": {
   "codemirror_mode": {
    "name": "ipython",
    "version": 3
   },
   "file_extension": ".py",
   "mimetype": "text/x-python",
   "name": "python",
   "nbconvert_exporter": "python",
   "pygments_lexer": "ipython3",
   "version": "3.7.6"
  }
 },
 "nbformat": 4,
 "nbformat_minor": 2
}
